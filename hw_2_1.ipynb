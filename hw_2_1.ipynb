{
 "cells": [
  {
   "cell_type": "markdown",
   "metadata": {},
   "source": [
    "# №1.1"
   ]
  },
  {
   "cell_type": "markdown",
   "metadata": {},
   "source": [
    "##### Пусть Y - реальный ответ элемента. \n",
    "##### Получим матож в 2х случаях:\n",
    "##### $E_1 = E(Y - \\frac{1}{n}\\sum_{i = n}^{n}y_i)^2 = EY^2 - 2EY\\cdot{E\\overline{y}} + E(\\overline{y})^2 = EY^2 - 2EY\\cdot{E\\overline{y}} + \\frac{1}{n^2}E(\\sum_{i = 1}^{n}y_i^2 + 2\\sum_{i \\ne{=} j}^{n}y_iy_j) = EY^2 - 2EY\\cdot{E\\overline{y}} + \\frac{1}{n}Ey_i^2 + \\frac{1}{n}(n - 1)(Ey_i)^2 = EY^2 - 2EY\\cdot{Ey_1} + \\frac{1}{n}Ey_1^2 + \\frac{1}{n}(n - 1)(Ey_1)^2$ , так как $Ey_1 = Ey_i \\forall i$\n",
    "##### $E_2 = E(Y - y_i)^2 = EY^2 - 2EY\\cdot{Ey_i} + Ey_i^2 = EY^2 - 2EY\\cdot{Ey_1} + Ey_1^2$\n",
    "$E_2 - E_1 = EY^2 - 2EY\\cdot{Ey_1} + Ey_1^2 - EY^2 + 2EY\\cdot{Ey_1} - \\frac{1}{n}Ey_1^2 - \\frac{1}{n}(n - 1)(Ey_1)^2 = Ey_1^2 - \\frac{1}{n}Ey_1^2 - \\frac{1}{n}(n - 1)(Ey_1)^2 = (1 - \\frac{1}{n})(Ey_1^2 - (Ey_1)^2) \\ge 0$\n",
    "##### Наилучшей стратегией является ответ средним значением таргета на объектах выборки, попавших в лист.\n",
    "\n"
   ]
  },
  {
   "cell_type": "markdown",
   "metadata": {},
   "source": []
  },
  {
   "cell_type": "markdown",
   "metadata": {},
   "source": []
  },
  {
   "cell_type": "markdown",
   "metadata": {},
   "source": [
    "# №1.3"
   ]
  },
  {
   "cell_type": "markdown",
   "metadata": {},
   "source": [
    "##### Посчитаем энтропию многомерного нормального распределения $-\\int_{R^{n}}p(x)\\ln{p(x)}dx = -\\int_{R^{n}}p(x)(\\frac{1}{2}(x - \\mu)^T(\\Sigma)^{-1}(x - \\mu) + \\ln({(2\\pi)^{n/2}\\sqrt{|\\Sigma|}}))dx = \\frac{1}{2}\\ln({(2\\pi)^{n}|\\Sigma|}) + \\frac{1}{2}\\sum_{1 \\le i,j \\le n}(\\Sigma)^{-1}E(x_i - \\mu_i)(x_j - \\mu_j) =$\n",
    "$ = \\frac{1}{2}\\ln({(2\\pi)^{n}|\\Sigma|}) + \\frac{1}{2}\\sum_{1 \\le i,j \\le n}(\\Sigma)^{-1}\\Sigma = \\frac{1}{2}\\ln({(2\\pi)^{n}|\\Sigma|}) + \\frac{n}{2} = \\frac{1}{2}\\ln({(2e\\pi)^{n}|\\Sigma|})$\n",
    "##### Что и требовалось доказать"
   ]
  },
  {
   "cell_type": "code",
   "execution_count": null,
   "metadata": {
    "collapsed": true
   },
   "outputs": [],
   "source": []
  }
 ],
 "metadata": {
  "kernelspec": {
   "display_name": "Python 2",
   "language": "python",
   "name": "python2"
  },
  "language_info": {
   "codemirror_mode": {
    "name": "ipython",
    "version": 2
   },
   "file_extension": ".py",
   "mimetype": "text/x-python",
   "name": "python",
   "nbconvert_exporter": "python",
   "pygments_lexer": "ipython2",
   "version": "2.7.13"
  }
 },
 "nbformat": 4,
 "nbformat_minor": 0
}
